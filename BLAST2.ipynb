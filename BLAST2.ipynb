{
  "nbformat": 4,
  "nbformat_minor": 0,
  "metadata": {
    "colab": {
      "provenance": [],
      "authorship_tag": "ABX9TyN5o705upMqZCr5IqXzmA1z",
      "include_colab_link": true
    },
    "kernelspec": {
      "name": "python3",
      "display_name": "Python 3"
    },
    "language_info": {
      "name": "python"
    }
  },
  "cells": [
    {
      "cell_type": "markdown",
      "metadata": {
        "id": "view-in-github",
        "colab_type": "text"
      },
      "source": [
        "<a href=\"https://colab.research.google.com/github/sakshimohta17/TechMedBuddy/blob/main/BLAST2.ipynb\" target=\"_parent\"><img src=\"https://colab.research.google.com/assets/colab-badge.svg\" alt=\"Open In Colab\"/></a>"
      ]
    },
    {
      "cell_type": "code",
      "execution_count": null,
      "metadata": {
        "colab": {
          "base_uri": "https://localhost:8080/"
        },
        "id": "BooBr3DoE0ab",
        "outputId": "a648f1d1-6373-4357-8fe9-47254b41ff3b"
      },
      "outputs": [
        {
          "output_type": "stream",
          "name": "stdout",
          "text": [
            "Requirement already satisfied: Bio in /usr/local/lib/python3.11/dist-packages (1.7.1)\n",
            "Requirement already satisfied: biopython>=1.80 in /usr/local/lib/python3.11/dist-packages (from Bio) (1.85)\n",
            "Requirement already satisfied: gprofiler-official in /usr/local/lib/python3.11/dist-packages (from Bio) (1.0.0)\n",
            "Requirement already satisfied: mygene in /usr/local/lib/python3.11/dist-packages (from Bio) (3.2.2)\n",
            "Requirement already satisfied: pandas in /usr/local/lib/python3.11/dist-packages (from Bio) (2.2.2)\n",
            "Requirement already satisfied: pooch in /usr/local/lib/python3.11/dist-packages (from Bio) (1.8.2)\n",
            "Requirement already satisfied: requests in /usr/local/lib/python3.11/dist-packages (from Bio) (2.32.3)\n",
            "Requirement already satisfied: tqdm in /usr/local/lib/python3.11/dist-packages (from Bio) (4.67.1)\n",
            "Requirement already satisfied: numpy in /usr/local/lib/python3.11/dist-packages (from biopython>=1.80->Bio) (2.0.2)\n",
            "Requirement already satisfied: biothings-client>=0.2.6 in /usr/local/lib/python3.11/dist-packages (from mygene->Bio) (0.4.1)\n",
            "Requirement already satisfied: python-dateutil>=2.8.2 in /usr/local/lib/python3.11/dist-packages (from pandas->Bio) (2.8.2)\n",
            "Requirement already satisfied: pytz>=2020.1 in /usr/local/lib/python3.11/dist-packages (from pandas->Bio) (2025.2)\n",
            "Requirement already satisfied: tzdata>=2022.7 in /usr/local/lib/python3.11/dist-packages (from pandas->Bio) (2025.2)\n",
            "Requirement already satisfied: platformdirs>=2.5.0 in /usr/local/lib/python3.11/dist-packages (from pooch->Bio) (4.3.7)\n",
            "Requirement already satisfied: packaging>=20.0 in /usr/local/lib/python3.11/dist-packages (from pooch->Bio) (24.2)\n",
            "Requirement already satisfied: charset-normalizer<4,>=2 in /usr/local/lib/python3.11/dist-packages (from requests->Bio) (3.4.1)\n",
            "Requirement already satisfied: idna<4,>=2.5 in /usr/local/lib/python3.11/dist-packages (from requests->Bio) (3.10)\n",
            "Requirement already satisfied: urllib3<3,>=1.21.1 in /usr/local/lib/python3.11/dist-packages (from requests->Bio) (2.3.0)\n",
            "Requirement already satisfied: certifi>=2017.4.17 in /usr/local/lib/python3.11/dist-packages (from requests->Bio) (2025.1.31)\n",
            "Requirement already satisfied: httpx>=0.22.0 in /usr/local/lib/python3.11/dist-packages (from biothings-client>=0.2.6->mygene->Bio) (0.28.1)\n",
            "Requirement already satisfied: six>=1.5 in /usr/local/lib/python3.11/dist-packages (from python-dateutil>=2.8.2->pandas->Bio) (1.17.0)\n",
            "Requirement already satisfied: anyio in /usr/local/lib/python3.11/dist-packages (from httpx>=0.22.0->biothings-client>=0.2.6->mygene->Bio) (4.9.0)\n",
            "Requirement already satisfied: httpcore==1.* in /usr/local/lib/python3.11/dist-packages (from httpx>=0.22.0->biothings-client>=0.2.6->mygene->Bio) (1.0.8)\n",
            "Requirement already satisfied: h11<0.15,>=0.13 in /usr/local/lib/python3.11/dist-packages (from httpcore==1.*->httpx>=0.22.0->biothings-client>=0.2.6->mygene->Bio) (0.14.0)\n",
            "Requirement already satisfied: sniffio>=1.1 in /usr/local/lib/python3.11/dist-packages (from anyio->httpx>=0.22.0->biothings-client>=0.2.6->mygene->Bio) (1.3.1)\n",
            "Requirement already satisfied: typing_extensions>=4.5 in /usr/local/lib/python3.11/dist-packages (from anyio->httpx>=0.22.0->biothings-client>=0.2.6->mygene->Bio) (4.13.2)\n",
            "Running blastn on sequence: GGGAGTTGATCCAGAATTGTCTTTCTGAAAGGAAGCACTCGGAATCCTTC...\n",
            "Running blastx on sequence: GGGAGTTGATCCAGAATTGTCTTTCTGAAAGGAAGCACTCGGAATCCTTC...\n"
          ]
        }
      ],
      "source": [
        "# Install Biopython\n",
        "!pip install Bio\n",
        "\n",
        "# Import required modules\n",
        "from Bio import SeqIO\n",
        "from Bio.Seq import Seq\n",
        "from Bio.Blast import NCBIWWW, NCBIXML\n",
        "from Bio import Entrez\n",
        "\n",
        "# Set your email for NCBI Entrez access\n",
        "Entrez.email = \"sakshimohta2018@gmail.com\"  # 🔁 Replace with your actual email\n",
        "\n",
        "def fetch_fasta_by_query(query, retmax=1):\n",
        "    \"\"\"\n",
        "    Fetches FASTA sequences from NCBI using a search query.\n",
        "    Args:\n",
        "        query: Entrez query string like \"Homo sapiens BRCA1\".\n",
        "        retmax: Maximum number of sequences to fetch.\n",
        "    Returns:\n",
        "        List of sequences as strings.\n",
        "    \"\"\"\n",
        "    handle = Entrez.esearch(db=\"nucleotide\", term=query, retmax=retmax)\n",
        "    record = Entrez.read(handle)\n",
        "    ids = record[\"IdList\"]\n",
        "    if not ids:\n",
        "        print(\"No results found for query:\", query)\n",
        "        return []\n",
        "\n",
        "    handle = Entrez.efetch(db=\"nucleotide\", id=ids, rettype=\"fasta\", retmode=\"text\")\n",
        "    fasta_records = list(SeqIO.parse(handle, \"fasta\"))\n",
        "    return [str(rec.seq) for rec in fasta_records]\n",
        "\n",
        "def run_blast(sequence, program=\"blastn\", database=\"nr\", expect=10.0,\n",
        "              hitlist_size=10, entrez_query=None, word_size=None,\n",
        "              matrix_name=None, gapcosts=None, filter=None):\n",
        "    \"\"\"\n",
        "    Runs a BLAST search using NCBI.\n",
        "    \"\"\"\n",
        "    print(f\"Running {program} on sequence: {sequence[:50]}...\")\n",
        "    result_handle = NCBIWWW.qblast(program, database, sequence, expect=expect,\n",
        "                                   hitlist_size=hitlist_size, entrez_query=entrez_query,\n",
        "                                   word_size=word_size, matrix_name=matrix_name,\n",
        "                                   gapcosts=gapcosts, filter=filter)\n",
        "    blast_records = NCBIXML.parse(result_handle)\n",
        "    return list(blast_records)\n",
        "\n",
        "# --- Fetch Sequence from NCBI using Query ---\n",
        "query = \"Homo sapiens BRCA1\"  # 🔁 Change to desired organism/gene\n",
        "sequences = fetch_fasta_by_query(query)\n",
        "if sequences:\n",
        "    sequence_dna = sequences[0]\n",
        "else:\n",
        "    raise ValueError(\"Could not fetch any sequence from NCBI.\")\n",
        "\n",
        "# --- Run BLAST Searches ---\n",
        "# Run blastn (DNA vs DNA)\n",
        "blast_results_n = run_blast(sequence_dna, program=\"blastn\")\n",
        "\n",
        "# Run blastx (translated DNA vs Protein)\n",
        "blast_results_x = run_blast(sequence_dna, program=\"blastx\")\n",
        "\n",
        "# Translate DNA to protein for protein-based searches\n",
        "sequence_protein = str(Seq(sequence_dna).translate(to_stop=True))\n",
        "\n",
        "# Run blastp (Protein vs Protein)\n",
        "blast_results_p = run_blast(sequence_protein, program=\"blastp\")\n",
        "\n",
        "# Run tblastn (Protein vs translated nucleotide db)\n",
        "blast_results_tn = run_blast(sequence_protein, program=\"tblastn\")\n",
        "\n",
        "# Run tblastx (translated DNA vs translated DNA)\n",
        "blast_results_tx = run_blast(sequence_dna, program=\"tblastx\")\n",
        "\n",
        "print(\"BLAST runs completed.\")\n"
      ]
    }
  ]
}