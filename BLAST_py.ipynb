{
  "nbformat": 4,
  "nbformat_minor": 0,
  "metadata": {
    "colab": {
      "provenance": [],
      "authorship_tag": "ABX9TyPx4vqOXy8nsc2bXXyVYkrS",
      "include_colab_link": true
    },
    "kernelspec": {
      "name": "python3",
      "display_name": "Python 3"
    },
    "language_info": {
      "name": "python"
    }
  },
  "cells": [
    {
      "cell_type": "markdown",
      "metadata": {
        "id": "view-in-github",
        "colab_type": "text"
      },
      "source": [
        "<a href=\"https://colab.research.google.com/github/sakshimohta17/TechMedBuddy/blob/main/BLAST_py.ipynb\" target=\"_parent\"><img src=\"https://colab.research.google.com/assets/colab-badge.svg\" alt=\"Open In Colab\"/></a>"
      ]
    },
    {
      "cell_type": "code",
      "execution_count": 8,
      "metadata": {
        "colab": {
          "base_uri": "https://localhost:8080/"
        },
        "id": "-DpCGMdQT3RI",
        "outputId": "704ca3bf-09e6-4c62-b1ef-e62b984a8855"
      },
      "outputs": [
        {
          "output_type": "stream",
          "name": "stdout",
          "text": [
            "Collecting Biopython\n",
            "  Downloading biopython-1.85-cp311-cp311-manylinux_2_17_x86_64.manylinux2014_x86_64.whl.metadata (13 kB)\n",
            "Requirement already satisfied: numpy in /usr/local/lib/python3.11/dist-packages (from Biopython) (2.0.2)\n",
            "Downloading biopython-1.85-cp311-cp311-manylinux_2_17_x86_64.manylinux2014_x86_64.whl (3.3 MB)\n",
            "\u001b[?25l   \u001b[90m━━━━━━━━━━━━━━━━━━━━━━━━━━━━━━━━━━━━━━━━\u001b[0m \u001b[32m0.0/3.3 MB\u001b[0m \u001b[31m?\u001b[0m eta \u001b[36m-:--:--\u001b[0m\r\u001b[2K   \u001b[91m━━━━━━━━━\u001b[0m\u001b[90m╺\u001b[0m\u001b[90m━━━━━━━━━━━━━━━━━━━━━━━━━━━━━━\u001b[0m \u001b[32m0.8/3.3 MB\u001b[0m \u001b[31m23.0 MB/s\u001b[0m eta \u001b[36m0:00:01\u001b[0m\r\u001b[2K   \u001b[91m━━━━━━━━━━━━━━━━━━━━━━━━━━━━━━━━━━━━━━━\u001b[0m\u001b[91m╸\u001b[0m \u001b[32m3.3/3.3 MB\u001b[0m \u001b[31m61.8 MB/s\u001b[0m eta \u001b[36m0:00:01\u001b[0m\r\u001b[2K   \u001b[90m━━━━━━━━━━━━━━━━━━━━━━━━━━━━━━━━━━━━━━━━\u001b[0m \u001b[32m3.3/3.3 MB\u001b[0m \u001b[31m45.0 MB/s\u001b[0m eta \u001b[36m0:00:00\u001b[0m\n",
            "\u001b[?25hInstalling collected packages: Biopython\n",
            "Successfully installed Biopython-1.85\n",
            "Running blastn on sequence: ATGGCCATTGTAATGGGCCGCTGAAAGGGTGCCCGATAG\n",
            "Running blastx on sequence: ATGGCCATTGTAATGGGCCGCTGAAAGGGTGCCCGATAG\n",
            "Running blastp on sequence: MAIVMGR\n",
            "Running tblastn on sequence: MAIVMGR\n",
            "Running tblastx on sequence: ATGGCCATTGTAATGGGCCGCTGAAAGGGTGCCCGATAG\n"
          ]
        }
      ],
      "source": [
        "# Install Biopython first if not already done:\n",
        "!pip install Biopython\n",
        "\n",
        "from Bio.Blast import NCBIWWW\n",
        "from Bio.Blast import NCBIXML\n",
        "from Bio.Seq import Seq\n",
        "\n",
        "def run_blast(sequence, program=\"blastn\", database=\"nr\", expect=10.0):\n",
        "    print(f\"Running {program} on sequence: {sequence}\")\n",
        "    result_handle = NCBIWWW.qblast(program, database, sequence, expect=expect)\n",
        "    blast_records = NCBIXML.parse(result_handle)\n",
        "    return list(blast_records)\n",
        "\n",
        "# DNA sequence\n",
        "sequence_dna = \"ATGGCCATTGTAATGGGCCGCTGAAAGGGTGCCCGATAG\"\n",
        "\n",
        "# Run blastn (DNA vs DNA)\n",
        "blast_results_n = run_blast(sequence_dna, program=\"blastn\")\n",
        "\n",
        "# Run blastx (translated DNA vs Protein)\n",
        "blast_results_x = run_blast(sequence_dna, program=\"blastx\")\n",
        "\n",
        "# Translate DNA to protein before running blastp (Protein vs Protein)\n",
        "sequence_protein = str(Seq(sequence_dna).translate(to_stop=True))\n",
        "blast_results_p = run_blast(sequence_protein, program=\"blastp\")\n",
        "\n",
        "# Run tblastn (Protein vs translated nucleotide db)\n",
        "blast_results_tn = run_blast(sequence_protein, program=\"tblastn\")\n",
        "\n",
        "# Run tblastx (translated DNA vs translated DNA)\n",
        "blast_results_tx = run_blast(sequence_dna, program=\"tblastx\")\n",
        "\n"
      ]
    },
    {
      "cell_type": "markdown",
      "source": [
        "\"\"\"\n",
        "    Runs a BLAST search against the NCBI database.\n",
        "\n",
        "    Args:\n",
        "        sequence: The nucleotide or protein sequence to search with.\n",
        "        program: The BLAST program to use (blastn, blastp, blastx, tblastn, or tblastx). Defaults to blastn.\n",
        "        database: The BLAST database to search against. Defaults to \"nr\".\n",
        "        expect: The expectation value threshold for reporting hits. Defaults to 10.0.\n",
        "\n",
        "    Returns:\n",
        "        A list of BLAST records.\n",
        "    \"\"\""
      ],
      "metadata": {
        "id": "lwmmGV6vU1DZ"
      }
    }
  ]
}